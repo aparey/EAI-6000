{
  "nbformat": 4,
  "nbformat_minor": 0,
  "metadata": {
    "colab": {
      "provenance": [],
      "toc_visible": true
    },
    "kernelspec": {
      "name": "python3",
      "display_name": "Python 3"
    },
    "language_info": {
      "name": "python"
    }
  },
  "cells": [
    {
      "cell_type": "markdown",
      "source": [
        "# Weather Model"
      ],
      "metadata": {
        "id": "ptowb9ItHGHf"
      }
    },
    {
      "cell_type": "markdown",
      "metadata": {
        "id": "Xzbe41iVrdkn"
      },
      "source": [
        "## Directions\n",
        "\n",
        "For this project, you will need to implement a filtering  inference task on an HMM. These are described in Section 15.2 of the text.\n",
        "\n",
        "Denote the hidden states of the HMM by `S(t)` and the observations (evidence) by `E(t)`. In the weather problem from the HMM Tutorial, X(t) would be either sunny, rainy, or foggy, and `E(t)` is yes or no to indicate if an umbrella was observed. We will use this model with prior probabilities P(sunny) = 0.5, P(rainy) = 0.25, P(foggy) = 0.25. The remaining probilities you need are specified below in the emisssion (`P_emission`) and transition matrices (`P_transition`).\n",
        "\n",
        "## What you need to do\n",
        "\n",
        "You will need to fill in the missing implementations of the following functions in the code where specified by the comments (`### YOUR CODE HERE ###`) and answer the questions where indicated.\n",
        "\n",
        "In implementing the code for the filtering task, you will be computing the probability of rain given the observations of the umbrella."
      ]
    },
    {
      "cell_type": "markdown",
      "source": [
        "## Probability Definitions\n",
        "Below you will find:\n",
        "- `P_init`: The initial probabilities of the weather state, whether sunny (0), rainy (1) or foggy (2)\n",
        "- `P_transition`: The transition probabilities or the probability that one weather state one day transitions to another weather state\n",
        "- `P_emission`: The 'emission' probabilities or the probabilities that an observation is made, conditioned on the underlying state."
      ],
      "metadata": {
        "id": "lgFmif62JksI"
      }
    },
    {
      "cell_type": "code",
      "metadata": {
        "id": "t3cwslrxsF_q"
      },
      "source": [
        "### DO NOT CHANGE ###\n",
        "\n",
        "import numpy as np\n",
        "\n",
        "# prior probability on weather states\n",
        "# P(sunny) = 0.5  P(rainy) = 0.25  P(foggy) = 0.25\n",
        "P_init = np.array([0.5, 0.25, 0.25])\n",
        "\n",
        "# states (0=sunny, 1=rainy, 2=foggy)\n",
        "S = [0, 1, 2]\n",
        "\n",
        "# transition probabilities\n",
        "#                    tomorrrow\n",
        "#    today     sunny  rainy  foggy\n",
        "#    sunny      0.8    0.05   0.15\n",
        "#    rainy      0.2    0.6    0.2\n",
        "#    foggy      0.2    0.3    0.5\n",
        "P_transition = np.array([ [0.8, 0.05, 0.15], [0.2, 0.6, 0.2], [0.2, 0.3, 0.5] ])\n",
        "\n",
        "# conditional probabilities of evidence (observations) given weather\n",
        "#                            sunny  rainy  foggy\n",
        "# P(weather | umbrella=no)    0.9    0.2    0.7\n",
        "# P(weather | umbrella=yes)   0.1    0.8    0.3\n",
        "P_emission = np.array([ [0.9, 0.2, 0.7], [0.1, 0.8, 0.3] ])"
      ],
      "execution_count": null,
      "outputs": []
    },
    {
      "cell_type": "markdown",
      "source": [
        "### [Question - State Transitions]\n",
        "If today is sunny what is the most likely forecast for the next two days if you have no umbrella observations to work with?"
      ],
      "metadata": {
        "id": "PYM2_QgTKEZ2"
      }
    },
    {
      "cell_type": "code",
      "source": [
        "print(\"The most likely weather forecast is ...\")\n",
        "### import numpy as np\n",
        "\n",
        "# P(sunny) = 0.5, P(rainy) = 0.25, P(foggy) = 0.25\n",
        "P_init = np.array([0.5, 0.25, 0.25])\n",
        "\n",
        "# States\n",
        "S = [0, 1, 2]\n",
        "\n",
        "# Transition probabilities\n",
        "#                    tomorrow\n",
        "#    today     sunny  rainy  foggy\n",
        "#    sunny      0.8    0.05   0.15\n",
        "#    rainy      0.2    0.6    0.2\n",
        "#    foggy      0.2    0.3    0.5\n",
        "P_transition = np.array([\n",
        "    [0.8, 0.05, 0.15],\n",
        "    [0.2, 0.6, 0.2],\n",
        "    [0.2, 0.3, 0.5]\n",
        "])\n",
        "\n",
        "# Conditional probabilities of evidence (observations) given weather\n",
        "#                            sunny  rainy  foggy\n",
        "# P(weather | umbrella=no)    0.9    0.2    0.7\n",
        "# P(weather | umbrella=yes)   0.1    0.8    0.3\n",
        "P_emission = np.array([\n",
        "    [0.9, 0.2, 0.7],\n",
        "    [0.1, 0.8, 0.3]\n",
        "])\n",
        "\n",
        "# Initial state - sunny\n",
        "today_state = 0\n",
        "\n",
        "# Tomorrow's forecast\n",
        "prob_day1 = P_transition[today_state]\n",
        "day1_state = np.argmax(prob_day1)\n",
        "\n",
        "# Day after tomorrow's forecast\n",
        "prob_day2 = P_transition[day1_state]\n",
        "day2_state = np.argmax(prob_day2)\n",
        "\n",
        "# state to weather\n",
        "state_to_weather = {0: \"sunny\", 1: \"rainy\", 2: \"foggy\"}\n",
        "\n",
        "\n",
        "print(\"Day 1 forecast:\", state_to_weather[day1_state])\n",
        "print(\"Day 2 forecast:\", state_to_weather[day2_state]) ## please enter your answer in the print statement\n",
        "\n",
        "\n",
        "\n"
      ],
      "metadata": {
        "id": "mEx9muMVLH0U",
        "colab": {
          "base_uri": "https://localhost:8080/"
        },
        "outputId": "15768730-08d8-49f8-f1f8-0923868373a8"
      },
      "execution_count": 8,
      "outputs": [
        {
          "output_type": "stream",
          "name": "stdout",
          "text": [
            "The most likely weather forecast is ...\n",
            "Day 1 forecast: sunny\n",
            "Day 2 forecast: sunny\n"
          ]
        }
      ]
    },
    {
      "cell_type": "markdown",
      "source": [
        "### [Question - Emission probabilities ]\n",
        "If on the first day you see no umbrella, what is the probability that it is rainy, foggy or sunny (Hint: remember the importance of overall probability of each state)?\n",
        "\n",
        "What is the most likely weather (hidden state)?"
      ],
      "metadata": {
        "id": "EP1-dHpnK_kn"
      }
    },
    {
      "cell_type": "code",
      "source": [
        "\n",
        "###import numpy as np\n",
        "\n",
        "# Prior probability on weather states\n",
        "# P(sunny) = 0.5, P(rainy) = 0.25, P(foggy) = 0.25\n",
        "P_init = np.array([0.5, 0.25, 0.25])\n",
        "\n",
        "# States (0=sunny, 1=rainy, 2=foggy)\n",
        "S = [0, 1, 2]\n",
        "\n",
        "# Transition probabilities\n",
        "P_transition = np.array([\n",
        "    [0.8, 0.05, 0.15],\n",
        "    [0.2, 0.6, 0.2],\n",
        "    [0.2, 0.3, 0.5]\n",
        "])\n",
        "\n",
        "# Emission probabilities\n",
        "P_emission = np.array([\n",
        "    [0.9, 0.2, 0.7],\n",
        "    [0.1, 0.8, 0.3]\n",
        "])\n",
        "\n",
        "# Initial state\n",
        "today_state = 0  # sunny\n",
        "\n",
        "# Transition probabilities for tomorrow\n",
        "prob_tomorrow = P_transition[today_state]\n",
        "\n",
        "# Emission probabilities given no umbrella\n",
        "prob_no_umbrella = P_emission[0]\n",
        "\n",
        "# Joint probabilities of each state and the observation\n",
        "joint_probabilities = prob_tomorrow * prob_no_umbrella\n",
        "\n",
        "# Total probability of seeing no umbrella\n",
        "total_prob_no_umbrella = np.sum(joint_probabilities)\n",
        "\n",
        "# Outside probabilities of each state given no umbrella\n",
        "out_probabilities = joint_probabilities / total_prob_no_umbrella\n",
        "\n",
        "# P_state_day0_given_umbrella\n",
        "P_state_day0_given_umbrella = out_probabilities\n",
        "\n",
        "# Print the probabilities and the most likely state\n",
        "print(f\"Probability of being sunny: {P_state_day0_given_umbrella[0]:.3f}\")\n",
        "print(f\"Probability of being rainy: {P_state_day0_given_umbrella[1]:.3f}\")\n",
        "print(f\"Probability of being foggy: {P_state_day0_given_umbrella[2]:.3f}\")\n",
        "\n",
        "# Most likely weather state\n",
        "most_likely_state = np.argmax(P_state_day0_given_umbrella)\n",
        "\n",
        "# state  to weather\n",
        "state_to_weather = {0: \"sunny\", 1: \"rainy\", 2: \"foggy\"}\n",
        "\n",
        "print(f\"Most likely weather: {state_to_weather[most_likely_state]}\")\n"
      ],
      "metadata": {
        "colab": {
          "base_uri": "https://localhost:8080/"
        },
        "id": "cME3l65bLcjm",
        "outputId": "e6abdf0b-2ed7-462f-96f1-6d5f1b70f1c1"
      },
      "execution_count": 11,
      "outputs": [
        {
          "output_type": "stream",
          "name": "stdout",
          "text": [
            "Probability of being sunny: 0.862\n",
            "Probability of being rainy: 0.012\n",
            "Probability of being foggy: 0.126\n",
            "Most likely weather: sunny\n"
          ]
        }
      ]
    },
    {
      "cell_type": "markdown",
      "source": [
        "### Evidence / observations\n",
        "\n",
        "Now we will define the observations on each day - whether we observed an umbrella (1) or not (0).\n"
      ],
      "metadata": {
        "id": "6chDNxazJh4w"
      }
    },
    {
      "cell_type": "code",
      "source": [
        "### DO NOT CHANGE ###\n",
        "\n",
        "## 0 = no umbrella, 1 = umbrella\n",
        "E = [0, 0, 0, 1, 0, 0, 1, 1, 0, 1]"
      ],
      "metadata": {
        "id": "2sTDhFyECedd"
      },
      "execution_count": null,
      "outputs": []
    },
    {
      "cell_type": "markdown",
      "metadata": {
        "id": "43OFPj-erMWJ"
      },
      "source": [
        "## Filtering\n",
        "\n",
        "*As a reminder*\n",
        "\n",
        "**Filtering**:\n",
        "Given observation sequence E(0), E(1), ..., E(T-1), compute P(X(T-1)|E(0), ..., E(T-1)).\n",
        "\n",
        "So we are computing the probability of the final state given our observations or evidence to date.\n",
        "\n",
        "We do this with the *Forward Algorithm* (see 15.2 in the text), which requires that we initialize probabilities at the first step using our 'prior' probability values of each underlying state. Then we update probabilities at each step (`Recursion`) using the prior step probabilities and given new evidence. We do this until we reach the end and then compute the total probability of each underlying state at the finel step."
      ]
    },
    {
      "cell_type": "markdown",
      "source": [
        "### Recursion (and initialization) function definition"
      ],
      "metadata": {
        "id": "Hw-UXGgV0fOP"
      }
    },
    {
      "cell_type": "code",
      "source": [
        "### DO NOT CHANGE ###\n",
        "\n",
        "# Normalize a probability distribution\n",
        "def normalize(pdist):\n",
        "   s = sum(pdist)\n",
        "   for i in range(0,len(pdist)):\n",
        "      pdist[i] = pdist[i] / s\n",
        "   return pdist\n",
        "\n",
        "DEBUG=True\n",
        "\n",
        "def init_and_recursion(Obs, S, init_prob, P_emission, P_transition):\n",
        "  ## a has a \"row\" for every observation and a \"column\" for every possible state\n",
        "  a = np.zeros((len(Obs), len(S)))\n",
        "  for t in range(0, len(Obs)):\n",
        "    print(f\".. (time {t}) Observation: {Obs[t]}\")\n",
        "    ## probability of a[0,:] is computed by summing over probabilities of all the\n",
        "    ## ways we could get to this \"path\" given where we left off at the previous\n",
        "    ## time step\n",
        "    if t == 0:\n",
        "      ##### Initialization\n",
        "      for j in range(len(S)):\n",
        "        #print(f\"t={t}, j={j}, S[j]={S[j]}, Obs[t]={Obs[t]}\")\n",
        "        a[t, j] = init_prob[j] * P_emission[Obs[t], S[j]]\n",
        "        current_state_total_prob = a[t, j]\n",
        "        print(f\".... Probability at state {S[j]}: {current_state_total_prob:.4f} (initial state)\")\n",
        "    else:\n",
        "      ## we need to compute a probability for each of the possible states\n",
        "      for j in range(len(S)): ## for each of the present states\n",
        "        S_curr = S[j]\n",
        "        ## we need to sum over all of the previous states to get current state prob\n",
        "        ## we'll keep track of that probability to sum up here\n",
        "        current_state_total_prob = 0.0\n",
        "        for k in range(len(S)): ## for each of the possible previous states\n",
        "          S_prev = S[k] ## possible previous state that we came from\n",
        "          if DEBUG:\n",
        "            print(f\"......Transition from state={S_prev} to state={S_prev}\")\n",
        "            print(f\"        Calculation: \")\n",
        "            print(f\"        {a[t-1, k]:.2f} * {P_emission[Obs[t], S[j]]:.2f} * {P_transition[S_prev, S_curr]:.2f}\")\n",
        "          current_state_total_prob += a[t-1, k] * P_emission[Obs[t], S[j]] * P_transition[S_prev, S_curr]\n",
        "        a[t, j] = current_state_total_prob\n",
        "    a[t,:] = normalize(a[t,:])\n",
        "    print(f\".... State probabilities: {a[t, :]}\")\n",
        "  return a"
      ],
      "metadata": {
        "id": "WqYrklx1xETE"
      },
      "execution_count": 12,
      "outputs": []
    },
    {
      "cell_type": "markdown",
      "source": [
        "### Termination function definition"
      ],
      "metadata": {
        "id": "R9w5b_dy0k-u"
      }
    },
    {
      "cell_type": "code",
      "source": [
        "### DO NOT CHANGE ###\n",
        "\n",
        "def termination(a):\n",
        "  total_ending_prob = 0\n",
        "  T = a.shape[0]-1 ## last time point\n",
        "  for i in range(len(a[T, :])):\n",
        "    total_ending_prob += a[T, i]\n",
        "  print(f\"\\nProbability of each potential state: {a[T]}\")"
      ],
      "metadata": {
        "id": "eaZ6eXNxxzjR"
      },
      "execution_count": null,
      "outputs": []
    },
    {
      "cell_type": "markdown",
      "source": [
        "### [Question - Final state]\n",
        "What is the most likely final state (most likely weather)? How much more likely is the final weather than the other two options?\n",
        "\n",
        "Use the above recursion and initialization function to compute the most likely state at the end (the filtering problem)."
      ],
      "metadata": {
        "id": "HgSvmWiGPHof"
      }
    },
    {
      "cell_type": "code",
      "source": [
        "import numpy as np\n",
        "\n",
        "# Normalize a probability distribution\n",
        "def normalize(pdist):\n",
        "   s = sum(pdist)\n",
        "   for i in range(0,len(pdist)):\n",
        "      pdist[i] = pdist[i] / s\n",
        "   return pdist\n",
        "\n",
        "DEBUG = True\n",
        "\n",
        "def init_and_recursion(Obs, S, init_prob, P_emission, P_transition):\n",
        "  ## a has a \"row\" for every observation and a \"column\" for every possible state\n",
        "  a = np.zeros((len(Obs), len(S)))\n",
        "  for t in range(0, len(Obs)):\n",
        "    print(f\".. (time {t}) Observation: {Obs[t]}\")\n",
        "    ## probability of a[0,:] is computed by summing over probabilities of all the\n",
        "    ## ways we could get to this \"path\" given where we left off at the previous\n",
        "    ## time step\n",
        "    if t == 0:\n",
        "      ##### Initialization\n",
        "      for j in range(len(S)):\n",
        "        #print(f\"t={t}, j={j}, S[j]={S[j]}, Obs[t]={Obs[t]}\")\n",
        "        a[t, j] = init_prob[j] * P_emission[Obs[t], S[j]]\n",
        "        current_state_total_prob = a[t, j]\n",
        "        print(f\".... Probability at state {S[j]}: {current_state_total_prob:.4f} (initial state)\")\n",
        "    else:\n",
        "      ## we need to compute a probability for each of the possible states\n",
        "      for j in range(len(S)): ## for each of the present states\n",
        "        S_curr = S[j]\n",
        "        ## we need to sum over all of the previous states to get current state prob\n",
        "        ## we'll keep track of that probability to sum up here\n",
        "        current_state_total_prob = 0.0\n",
        "        for k in range(len(S)): ## for each of the possible previous states\n",
        "          S_prev = S[k] ## possible previous state that we came from\n",
        "          if DEBUG:\n",
        "            print(f\"......Transition from state={S_prev} to state={S_prev}\")\n",
        "            print(f\"        Calculation: \")\n",
        "            print(f\"        {a[t-1, k]:.2f} * {P_emission[Obs[t], S[j]]:.2f} * {P_transition[S_prev, S_curr]:.2f}\")\n",
        "          current_state_total_prob += a[t-1, k] * P_emission[Obs[t], S[j]] * P_transition[S_prev, S_curr]\n",
        "        a[t, j] = current_state_total_prob\n",
        "    a[t,:] = normalize(a[t,:])\n",
        "    print(f\".... State probabilities: {a[t, :]}\")\n",
        "  return a\n",
        "\n",
        "### DO NOT CHANGE ###\n",
        "\n",
        "def termination(a):\n",
        "  total_ending_prob = 0\n",
        "  T = a.shape[0]-1 ## last time point\n",
        "  for i in range(len(a[T, :])):\n",
        "    total_ending_prob += a[T, i]\n",
        "  print(f\"\\nProbability of each potential state: {a[T]}\")\n",
        "  return a[T]\n",
        "\n",
        "# Initial parameters\n",
        "S = [0, 1, 2]\n",
        "init_prob = np.array([1, 0, 0])  # Initial state: sunny\n",
        "P_transition = np.array([\n",
        "    [0.8, 0.05, 0.15],\n",
        "    [0.2, 0.6, 0.2],\n",
        "    [0.2, 0.3, 0.5]\n",
        "])\n",
        "P_emission = np.array([\n",
        "    [0.9, 0.2, 0.7],\n",
        "    [0.1, 0.8, 0.3]\n",
        "])\n",
        "\n",
        "\n",
        "Obs = [0, 0]\n",
        "\n",
        "# recursion and initialization\n",
        "a = init_and_recursion(Obs, S, init_prob, P_emission, P_transition)\n",
        "\n",
        "# final state probabilities\n",
        "final_probs = termination(a)\n",
        "most_likely_final_state = np.argmax(final_probs)\n",
        "\n",
        "# state to weather\n",
        "state_to_weather = {0: \"sunny\", 1: \"rainy\", 2: \"foggy\"}\n",
        "\n",
        "print(f\"\\nMost likely final weather: {state_to_weather[most_likely_final_state]}\")\n",
        "print(f\"Probability of being sunny: {final_probs[0]:.3f}\")\n",
        "print(f\"Probability of being rainy: {final_probs[1]:.3f}\")\n",
        "print(f\"Probability of being foggy: {final_probs[2]:.3f}\")\n",
        "\n",
        "# more likely state than others\n",
        "most_likely_prob = final_probs[most_likely_final_state]\n",
        "ratios = most_likely_prob / final_probs\n",
        "print(f\"\\nMost likely weather state ({state_to_weather[most_likely_final_state]}) probabilities relative to other states:\")\n",
        "for i, state in enumerate(S):\n",
        "    if i != most_likely_final_state:\n",
        "        print(f\"  Compared to {state_to_weather[state]}: {ratios[i]:.2f} times more likely\")\n"
      ],
      "metadata": {
        "id": "f6XyS-8pPS5z",
        "colab": {
          "base_uri": "https://localhost:8080/"
        },
        "outputId": "fca4cc6c-8eea-40e8-8947-01cfcc2eaa80"
      },
      "execution_count": 16,
      "outputs": [
        {
          "output_type": "stream",
          "name": "stdout",
          "text": [
            ".. (time 0) Observation: 0\n",
            ".... Probability at state 0: 0.9000 (initial state)\n",
            ".... Probability at state 1: 0.0000 (initial state)\n",
            ".... Probability at state 2: 0.0000 (initial state)\n",
            ".... State probabilities: [1. 0. 0.]\n",
            ".. (time 1) Observation: 0\n",
            "......Transition from state=0 to state=0\n",
            "        Calculation: \n",
            "        1.00 * 0.90 * 0.80\n",
            "......Transition from state=1 to state=1\n",
            "        Calculation: \n",
            "        0.00 * 0.90 * 0.20\n",
            "......Transition from state=2 to state=2\n",
            "        Calculation: \n",
            "        0.00 * 0.90 * 0.20\n",
            "......Transition from state=0 to state=0\n",
            "        Calculation: \n",
            "        1.00 * 0.20 * 0.05\n",
            "......Transition from state=1 to state=1\n",
            "        Calculation: \n",
            "        0.00 * 0.20 * 0.60\n",
            "......Transition from state=2 to state=2\n",
            "        Calculation: \n",
            "        0.00 * 0.20 * 0.30\n",
            "......Transition from state=0 to state=0\n",
            "        Calculation: \n",
            "        1.00 * 0.70 * 0.15\n",
            "......Transition from state=1 to state=1\n",
            "        Calculation: \n",
            "        0.00 * 0.70 * 0.20\n",
            "......Transition from state=2 to state=2\n",
            "        Calculation: \n",
            "        0.00 * 0.70 * 0.50\n",
            ".... State probabilities: [0.86227545 0.01197605 0.1257485 ]\n",
            "\n",
            "Probability of each potential state: [0.86227545 0.01197605 0.1257485 ]\n",
            "\n",
            "Most likely final weather: sunny\n",
            "Probability of being sunny: 0.862\n",
            "Probability of being rainy: 0.012\n",
            "Probability of being foggy: 0.126\n",
            "\n",
            "Most likely weather state (sunny) probabilities relative to other states:\n",
            "  Compared to rainy: 72.00 times more likely\n",
            "  Compared to foggy: 6.86 times more likely\n"
          ]
        }
      ]
    },
    {
      "cell_type": "markdown",
      "source": [
        "### [Question - Plot probabilities ]\n",
        "\n",
        "Use the [PyPlot](https://matplotlib.org/stable/tutorials/introductory/pyplot.html#:~:text=the%20pyplot%20interface.-,Intro%20to%20pyplot,the%20plot%20with%20labels%2C%20etc.) library to plot the transition probabilities over time."
      ],
      "metadata": {
        "id": "i0NImz58WoFK"
      }
    },
    {
      "cell_type": "code",
      "source": [
        "import numpy as np\n",
        "import matplotlib.pyplot as plt\n",
        "\n",
        "# Normalize a probability distribution\n",
        "def normalize(pdist):\n",
        "   s = sum(pdist)\n",
        "   for i in range(0,len(pdist)):\n",
        "      pdist[i] = pdist[i] / s\n",
        "   return pdist\n",
        "\n",
        "DEBUG = True\n",
        "\n",
        "def init_and_recursion(Obs, S, init_prob, P_emission, P_transition):\n",
        "  ## a has a \"row\" for every observation and a \"column\" for every possible state\n",
        "  a = np.zeros((len(Obs), len(S)))\n",
        "  for t in range(0, len(Obs)):\n",
        "    print(f\".. (time {t}) Observation: {Obs[t]}\")\n",
        "    ## probability of a[0,:] is computed by summing over probabilities of all the\n",
        "    ## ways we could get to this \"path\" given where we left off at the previous\n",
        "    ## time step\n",
        "    if t == 0:\n",
        "      ##### Initialization\n",
        "      for j in range(len(S)):\n",
        "        #print(f\"t={t}, j={j}, S[j]={S[j]}, Obs[t]={Obs[t]}\")\n",
        "        a[t, j] = init_prob[j] * P_emission[Obs[t], S[j]]\n",
        "        current_state_total_prob = a[t, j]\n",
        "        print(f\".... Probability at state {S[j]}: {current_state_total_prob:.4f} (initial state)\")\n",
        "    else:\n",
        "      ## we need to compute a probability for each of the possible states\n",
        "      for j in range(len(S)): ## for each of the present states\n",
        "        S_curr = S[j]\n",
        "        ## we need to sum over all of the previous states to get current state prob\n",
        "        ## we'll keep track of that probability to sum up here\n",
        "        current_state_total_prob = 0.0\n",
        "        for k in range(len(S)): ## for each of the possible previous states\n",
        "          S_prev = S[k] ## possible previous state that we came from\n",
        "          if DEBUG:\n",
        "            print(f\"......Transition from state={S_prev} to state={S_curr}\")\n",
        "            print(f\"        Calculation: \")\n",
        "            print(f\"        {a[t-1, k]:.2f} * {P_emission[Obs[t], S[j]]:.2f} * {P_transition[S_prev, S_curr]:.2f}\")\n",
        "          current_state_total_prob += a[t-1, k] * P_emission[Obs[t], S[j]] * P_transition[S_prev, S_curr]\n",
        "        a[t, j] = current_state_total_prob\n",
        "    a[t,:] = normalize(a[t,:])\n",
        "    print(f\".... State probabilities: {a[t, :]}\")\n",
        "  return a\n",
        "\n",
        "### DO NOT CHANGE ###\n",
        "\n",
        "def termination(a):\n",
        "  total_ending_prob = 0\n",
        "  T = a.shape[0]-1 ## last time point\n",
        "  for i in range(len(a[T, :])):\n",
        "    total_ending_prob += a[T, i]\n",
        "  print(f\"\\nProbability of each potential state: {a[T]}\")\n",
        "  return a[T]\n",
        "\n",
        "\n",
        "S = [0, 1, 2]\n",
        "init_prob = np.array([1, 0, 0])\n",
        "P_transition = np.array([\n",
        "    [0.8, 0.05, 0.15],\n",
        "    [0.2, 0.6, 0.2],\n",
        "    [0.2, 0.3, 0.5]\n",
        "])\n",
        "P_emission = np.array([\n",
        "    [0.9, 0.2, 0.7],\n",
        "    [0.1, 0.8, 0.3]\n",
        "])\n",
        "\n",
        "\n",
        "Obs = [0, 0]\n",
        "\n",
        "# recursion and initialization\n",
        "a = init_and_recursion(Obs, S, init_prob, P_emission, P_transition)\n",
        "\n",
        "#  final state probabilities\n",
        "final_probs = termination(a)\n",
        "most_likely_final_state = np.argmax(final_probs)\n",
        "\n",
        "# state to weather\n",
        "state_to_weather = {0: \"sunny\", 1: \"rainy\", 2: \"foggy\"}\n",
        "\n",
        "print(f\"\\nMost likely final weather: {state_to_weather[most_likely_final_state]}\")\n",
        "print(f\"Probability of being sunny: {final_probs[0]:.3f}\")\n",
        "print(f\"Probability of being rainy: {final_probs[1]:.3f}\")\n",
        "print(f\"Probability of being foggy: {final_probs[2]:.3f}\")\n",
        "\n",
        "# most likely state than the others\n",
        "most_likely_prob = final_probs[most_likely_final_state]\n",
        "ratios = most_likely_prob / final_probs\n",
        "print(f\"\\nMost likely weather state ({state_to_weather[most_likely_final_state]}) probabilities relative to other states:\")\n",
        "for i, state in enumerate(S):\n",
        "    if i != most_likely_final_state:\n",
        "        print(f\"  Compared to {state_to_weather[state]}: {ratios[i]:.2f} times more likely\")\n",
        "\n",
        "# Plot\n",
        "time_steps = range(len(Obs))\n",
        "plt.figure(figsize=(10, 6))\n",
        "for state in S:\n",
        "    plt.plot(time_steps, a[:, state], label=state_to_weather[state])\n",
        "\n",
        "plt.xlabel('Time Step')\n",
        "plt.ylabel('Probability')\n",
        "plt.title('State Probabilities Over Time')\n",
        "plt.legend()\n",
        "plt.grid(True)\n",
        "plt.show()\n"
      ],
      "metadata": {
        "id": "y12aUJ0rWmtK",
        "colab": {
          "base_uri": "https://localhost:8080/",
          "height": 1000
        },
        "outputId": "7d3df4fc-faaa-4112-8cd4-36b575d4c35a"
      },
      "execution_count": 17,
      "outputs": [
        {
          "output_type": "stream",
          "name": "stdout",
          "text": [
            ".. (time 0) Observation: 0\n",
            ".... Probability at state 0: 0.9000 (initial state)\n",
            ".... Probability at state 1: 0.0000 (initial state)\n",
            ".... Probability at state 2: 0.0000 (initial state)\n",
            ".... State probabilities: [1. 0. 0.]\n",
            ".. (time 1) Observation: 0\n",
            "......Transition from state=0 to state=0\n",
            "        Calculation: \n",
            "        1.00 * 0.90 * 0.80\n",
            "......Transition from state=1 to state=0\n",
            "        Calculation: \n",
            "        0.00 * 0.90 * 0.20\n",
            "......Transition from state=2 to state=0\n",
            "        Calculation: \n",
            "        0.00 * 0.90 * 0.20\n",
            "......Transition from state=0 to state=1\n",
            "        Calculation: \n",
            "        1.00 * 0.20 * 0.05\n",
            "......Transition from state=1 to state=1\n",
            "        Calculation: \n",
            "        0.00 * 0.20 * 0.60\n",
            "......Transition from state=2 to state=1\n",
            "        Calculation: \n",
            "        0.00 * 0.20 * 0.30\n",
            "......Transition from state=0 to state=2\n",
            "        Calculation: \n",
            "        1.00 * 0.70 * 0.15\n",
            "......Transition from state=1 to state=2\n",
            "        Calculation: \n",
            "        0.00 * 0.70 * 0.20\n",
            "......Transition from state=2 to state=2\n",
            "        Calculation: \n",
            "        0.00 * 0.70 * 0.50\n",
            ".... State probabilities: [0.86227545 0.01197605 0.1257485 ]\n",
            "\n",
            "Probability of each potential state: [0.86227545 0.01197605 0.1257485 ]\n",
            "\n",
            "Most likely final weather: sunny\n",
            "Probability of being sunny: 0.862\n",
            "Probability of being rainy: 0.012\n",
            "Probability of being foggy: 0.126\n",
            "\n",
            "Most likely weather state (sunny) probabilities relative to other states:\n",
            "  Compared to rainy: 72.00 times more likely\n",
            "  Compared to foggy: 6.86 times more likely\n"
          ]
        },
        {
          "output_type": "display_data",
          "data": {
            "text/plain": [
              "<Figure size 1000x600 with 1 Axes>"
            ],
            "image/png": "[encoded data removed]"
          },
          "metadata": {}
        }
      ]
    },
    {
      "cell_type": "markdown",
      "source": [
        "Sources:\n",
        "\n",
        "\n",
        "\n",
        "\n",
        "1.  Rabiner, Lawrence R. \"A tutorial on hidden Markov models and selected applications in speech recognition.\" Proceedings of the IEEE 77.2 (1989): 257-286.\n",
        "2.   https://www.w3schools.com/python/matplotlib_pyplot.asp\n",
        "\n"
      ],
      "metadata": {
        "id": "zj2KZarYEGqG"
      }
    }
  ]
}