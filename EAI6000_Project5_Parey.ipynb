{
  "nbformat": 4,
  "nbformat_minor": 0,
  "metadata": {
    "colab": {
      "provenance": []
    },
    "kernelspec": {
      "name": "python3",
      "display_name": "Python 3"
    },
    "language_info": {
      "name": "python"
    }
  },
  "cells": [
    {
      "cell_type": "markdown",
      "source": [
        "Here, I have copy and pasted the base code from the website for a better understanding of the concept of repeated k-Fold cross-Validation."
      ],
      "metadata": {
        "id": "-2LV_GB4sivv"
      }
    },
    {
      "cell_type": "code",
      "execution_count": 1,
      "metadata": {
        "colab": {
          "base_uri": "https://localhost:8080/"
        },
        "id": "k1r8cdT3YkM4",
        "outputId": "da217c5a-6a28-4ffb-98ba-636ec719b4fb"
      },
      "outputs": [
        {
          "output_type": "stream",
          "name": "stdout",
          "text": [
            "(1000, 20) (1000,)\n"
          ]
        }
      ],
      "source": [
        "# test classification dataset\n",
        "from sklearn.datasets import make_classification\n",
        "# define dataset\n",
        "X, y = make_classification(n_samples=1000, n_features=20, n_informative=15, n_redundant=5, random_state=1)\n",
        "# summarize the dataset\n",
        "print(X.shape, y.shape)"
      ]
    },
    {
      "cell_type": "code",
      "source": [
        "\n",
        "# evaluate a logistic regression model using k-fold cross-validation\n",
        "from numpy import mean\n",
        "from numpy import std\n",
        "from sklearn.datasets import make_classification\n",
        "from sklearn.model_selection import KFold\n",
        "from sklearn.model_selection import cross_val_score\n",
        "from sklearn.linear_model import LogisticRegression\n",
        "# create dataset\n",
        "X, y = make_classification(n_samples=1000, n_features=20, n_informative=15, n_redundant=5, random_state=1)\n",
        "# prepare the cross-validation procedure\n",
        "cv = KFold(n_splits=10, random_state=1, shuffle=True)\n",
        "# create model\n",
        "model = LogisticRegression()\n",
        "# evaluate model\n",
        "scores = cross_val_score(model, X, y, scoring='accuracy', cv=cv, n_jobs=-1)\n",
        "# report performance\n",
        "print('Accuracy: %.3f (%.3f)' % (mean(scores), std(scores)))\n"
      ],
      "metadata": {
        "colab": {
          "base_uri": "https://localhost:8080/"
        },
        "id": "lRMfcIPooSjz",
        "outputId": "e9b5b7ec-621d-42d0-c55a-16656f05a1c4"
      },
      "execution_count": 5,
      "outputs": [
        {
          "output_type": "stream",
          "name": "stdout",
          "text": [
            "Accuracy: 0.868 (0.032)\n"
          ]
        }
      ]
    },
    {
      "cell_type": "code",
      "source": [
        "# evaluate a logistic regression model using repeated k-fold cross-validation\n",
        "from numpy import mean\n",
        "from numpy import std\n",
        "from sklearn.datasets import make_classification\n",
        "from sklearn.model_selection import RepeatedKFold\n",
        "from sklearn.model_selection import cross_val_score\n",
        "from sklearn.linear_model import LogisticRegression\n",
        "# create dataset\n",
        "X, y = make_classification(n_samples=1000, n_features=20, n_informative=15, n_redundant=5, random_state=1)\n",
        "# prepare the cross-validation procedure\n",
        "cv = RepeatedKFold(n_splits=10, n_repeats=3, random_state=1)\n",
        "# create model\n",
        "model = LogisticRegression()\n",
        "# evaluate model\n",
        "scores = cross_val_score(model, X, y, scoring='accuracy', cv=cv, n_jobs=-1)\n",
        "# report performance\n",
        "print('Accuracy: %.3f (%.3f)' % (mean(scores), std(scores)))"
      ],
      "metadata": {
        "colab": {
          "base_uri": "https://localhost:8080/"
        },
        "id": "FltCK7EpogSq",
        "outputId": "b0f38e96-b333-4099-bc26-7fe0405b5f0e"
      },
      "execution_count": 6,
      "outputs": [
        {
          "output_type": "stream",
          "name": "stdout",
          "text": [
            "Accuracy: 0.867 (0.031)\n"
          ]
        }
      ]
    },
    {
      "cell_type": "code",
      "source": [
        "# compare the number of repeats for repeated k-fold cross-validation\n",
        "from scipy.stats import sem\n",
        "from numpy import mean\n",
        "from numpy import std\n",
        "from sklearn.datasets import make_classification\n",
        "from sklearn.model_selection import RepeatedKFold\n",
        "from sklearn.model_selection import cross_val_score\n",
        "from sklearn.linear_model import LogisticRegression\n",
        "from matplotlib import pyplot\n",
        "\n",
        "# evaluate a model with a given number of repeats\n",
        "def evaluate_model(X, y, repeats):\n",
        " # prepare the cross-validation procedure\n",
        " cv = RepeatedKFold(n_splits=10, n_repeats=repeats, random_state=1)\n",
        " # create model\n",
        " model = LogisticRegression()\n",
        " # evaluate model\n",
        " scores = cross_val_score(model, X, y, scoring='accuracy', cv=cv, n_jobs=-1)\n",
        " return scores\n",
        "\n",
        "# create dataset\n",
        "X, y = make_classification(n_samples=1000, n_features=20, n_informative=15, n_redundant=5, random_state=1)\n",
        "# configurations to test\n",
        "repeats = range(1,16)\n",
        "results = list()\n",
        "for r in repeats:\n",
        " # evaluate using a given number of repeats\n",
        " scores = evaluate_model(X, y, r)\n",
        " # summarize\n",
        " print('>%d mean=%.4f se=%.3f' % (r, mean(scores), sem(scores)))\n",
        " # store\n",
        " results.append(scores)\n",
        "# plot the results\n",
        "pyplot.boxplot(results, labels=[str(r) for r in repeats], showmeans=True)\n",
        "pyplot.show()"
      ],
      "metadata": {
        "colab": {
          "base_uri": "https://localhost:8080/",
          "height": 698
        },
        "id": "bdAKJ0cgo5FZ",
        "outputId": "aefe59e0-5ce7-4b74-81f4-857b850f4c37"
      },
      "execution_count": 7,
      "outputs": [
        {
          "output_type": "stream",
          "name": "stdout",
          "text": [
            ">1 mean=0.8680 se=0.011\n",
            ">2 mean=0.8675 se=0.008\n",
            ">3 mean=0.8673 se=0.006\n",
            ">4 mean=0.8670 se=0.006\n",
            ">5 mean=0.8658 se=0.005\n",
            ">6 mean=0.8655 se=0.004\n",
            ">7 mean=0.8651 se=0.004\n",
            ">8 mean=0.8651 se=0.004\n",
            ">9 mean=0.8656 se=0.003\n",
            ">10 mean=0.8658 se=0.003\n",
            ">11 mean=0.8655 se=0.003\n",
            ">12 mean=0.8654 se=0.003\n",
            ">13 mean=0.8652 se=0.003\n",
            ">14 mean=0.8651 se=0.003\n",
            ">15 mean=0.8653 se=0.003\n"
          ]
        },
        {
          "output_type": "display_data",
          "data": {
            "text/plain": [
              "<Figure size 640x480 with 1 Axes>"
            ],
            "image/png": "[encoded data removed]"
          },
          "metadata": {}
        }
      ]
    },
    {
      "cell_type": "markdown",
      "source": [
        "I read the discussion forum and found out that we can use grid search for tuning model hyperparameters which help in selecting the best model and improving accuracy. I read about it more on https://scikit-learn.org/stable/modules/generated/sklearn.model_selection.GridSearchCV.html and implemented in the existing code which helped in improving the accuracy by 0.0020, which isn't much but it should work very well with large datasets and help in determining the best model with improved accuracy.\n"
      ],
      "metadata": {
        "id": "BNps4l7Ipi__"
      }
    },
    {
      "cell_type": "code",
      "source": [
        "from scipy.stats import sem\n",
        "from numpy import mean\n",
        "from sklearn.datasets import make_classification\n",
        "from sklearn.model_selection import RepeatedKFold, cross_val_score, GridSearchCV\n",
        "from sklearn.linear_model import LogisticRegression\n",
        "from sklearn.preprocessing import StandardScaler\n",
        "from sklearn.pipeline import Pipeline\n",
        "from matplotlib import pyplot\n",
        "\n",
        "# evaluate a model\n",
        "def evaluate_model(X, y, repeats):\n",
        "    #  cross-validation\n",
        "    cv = RepeatedKFold(n_splits=10, n_repeats=repeats, random_state=1)\n",
        "\n",
        "\n",
        "    model = Pipeline(steps=[\n",
        "        ('scaler', StandardScaler()),  # standardize the data\n",
        "        ('lr', LogisticRegression(max_iter=1000))  # logistic regression\n",
        "    ])\n",
        "\n",
        "    # define hyperparameters to tune\n",
        "    param_grid = {\n",
        "        'lr__C': [0.001, 0.01, 0.1, 1, 10, 100],\n",
        "        'lr__solver': ['lbfgs', 'liblinear']\n",
        "    }\n",
        "\n",
        "    # apply GridSearchCV\n",
        "    grid_search = GridSearchCV(model, param_grid, scoring='accuracy', cv=cv, n_jobs=-1)\n",
        "\n",
        "    # fit the model\n",
        "    grid_search.fit(X, y)\n",
        "\n",
        "    # evaluate the best model\n",
        "    scores = cross_val_score(grid_search.best_estimator_, X, y, scoring='accuracy', cv=cv, n_jobs=-1)\n",
        "\n",
        "    return scores, grid_search.best_params_\n",
        "\n",
        "\n",
        "X, y = make_classification(n_samples=1000, n_features=20, n_informative=15, n_redundant=5, random_state=1)\n",
        "\n",
        "# configurations to test\n",
        "repeats = range(1, 16)\n",
        "results = list()\n",
        "best_params = None\n",
        "\n",
        "for r in repeats:\n",
        "    # evaluate using a given number of repeats\n",
        "    scores, best_params = evaluate_model(X, y, r)\n",
        "    # summarize\n",
        "    print('>%d mean=%.4f se=%.3f' % (r, mean(scores), sem(scores)))\n",
        "    # store\n",
        "    results.append(scores)\n",
        "\n",
        "print(\"Best Hyperparameters:\", best_params)\n",
        "\n",
        "# plot the results\n",
        "pyplot.boxplot(results, labels=[str(r) for r in repeats], showmeans=True)\n",
        "pyplot.show()\n"
      ],
      "metadata": {
        "colab": {
          "base_uri": "https://localhost:8080/",
          "height": 716
        },
        "id": "GKt1Q3r1pjjK",
        "outputId": "cb2cec4c-28b0-41f3-b94a-5ddafbb6a85d"
      },
      "execution_count": 8,
      "outputs": [
        {
          "output_type": "stream",
          "name": "stdout",
          "text": [
            ">1 mean=0.8700 se=0.011\n",
            ">2 mean=0.8685 se=0.008\n",
            ">3 mean=0.8690 se=0.006\n",
            ">4 mean=0.8685 se=0.006\n",
            ">5 mean=0.8684 se=0.005\n",
            ">6 mean=0.8685 se=0.004\n",
            ">7 mean=0.8679 se=0.004\n",
            ">8 mean=0.8674 se=0.004\n",
            ">9 mean=0.8677 se=0.004\n",
            ">10 mean=0.8682 se=0.003\n",
            ">11 mean=0.8679 se=0.003\n",
            ">12 mean=0.8677 se=0.003\n",
            ">13 mean=0.8676 se=0.003\n",
            ">14 mean=0.8675 se=0.003\n",
            ">15 mean=0.8675 se=0.003\n",
            "Best Hyperparameters: {'lr__C': 0.1, 'lr__solver': 'lbfgs'}\n"
          ]
        },
        {
          "output_type": "display_data",
          "data": {
            "text/plain": [
              "<Figure size 640x480 with 1 Axes>"
            ],
            "image/png": "[encoded data removed]"
          },
          "metadata": {}
        }
      ]
    }
  ]
}